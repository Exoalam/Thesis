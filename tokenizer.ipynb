{
 "cells": [
  {
   "cell_type": "code",
   "execution_count": 3,
   "id": "620298b8",
   "metadata": {},
   "outputs": [
    {
     "name": "stdout",
     "output_type": "stream",
     "text": [
      "{'ভষ</w>', 'ি</w>', 'বল</w>', 'ভলোবস', 'মি</w>'}\n"
     ]
    }
   ],
   "source": [
    "# ... [same functions as before: get_stats and merge_vocab]\n",
    "\n",
    "def get_stats(vocab):\n",
    "    pairs = {}\n",
    "    for word, freq in vocab.items():\n",
    "        symbols = word.split()\n",
    "        for i in range(len(symbols) - 1):\n",
    "            pair = (symbols[i], symbols[i + 1])\n",
    "            if pair in pairs:\n",
    "                pairs[pair] += freq\n",
    "            else:\n",
    "                pairs[pair] = freq\n",
    "    return pairs\n",
    "\n",
    "def merge_vocab(pair, v_in):\n",
    "    v_out = {}\n",
    "    bigram = ' '.join(pair)\n",
    "    replacement = ''.join(pair)\n",
    "    for word in v_in:\n",
    "        w_out = word.replace(bigram, replacement)\n",
    "        v_out[w_out] = v_in[word]\n",
    "    return v_out\n",
    "def byte_pair_encode_bangla(text, num_merges):\n",
    "    # Initialize vocabulary with individual Bengali characters\n",
    "    vocab = {}\n",
    "    for word in text.split():\n",
    "        word = ' '.join(word) + ' </w>'  # Adding end of word token\n",
    "        if word in vocab:\n",
    "            vocab[word] += 1\n",
    "        else:\n",
    "            vocab[word] = 1\n",
    "    \n",
    "    for i in range(num_merges):\n",
    "        pairs = get_stats(vocab)\n",
    "        if not pairs:\n",
    "            break\n",
    "        best = max(pairs, key=pairs.get)\n",
    "        vocab = merge_vocab(best, vocab)\n",
    "    \n",
    "    # Extracting the tokens from the vocabulary\n",
    "    bpe_tokens = set()\n",
    "    for word in vocab.keys():\n",
    "        bpe_tokens.update(word.split())\n",
    "    \n",
    "    return bpe_tokens\n",
    "\n",
    "bangla_text = \"মি বল ভষ ভলোবসি\"  # This translates to \"I love the Bengali language\"\n",
    "tokens = byte_pair_encode_bangla(bangla_text, 10)\n",
    "print(tokens)"
   ]
  },
  {
   "cell_type": "code",
   "execution_count": null,
   "id": "3f64ebde",
   "metadata": {},
   "outputs": [],
   "source": [
    "from bnlp import SentencepieceTokenizer\n",
    "\n",
    "bsp = SentencepieceTokenizer()\n",
    "input_text = \"আমি ভাত খাই। সে বাজারে যায়।\"\n",
    "tokens = bsp.tokenize(input_text)\n",
    "print(tokens)\n",
    "text2id = bsp.text2id(input_text)\n",
    "print(text2id)\n",
    "id2text = bsp.id2text(text2id)\n",
    "print(id2text)"
   ]
  }
 ],
 "metadata": {
  "kernelspec": {
   "display_name": "Python 3 (ipykernel)",
   "language": "python",
   "name": "python3"
  },
  "language_info": {
   "codemirror_mode": {
    "name": "ipython",
    "version": 3
   },
   "file_extension": ".py",
   "mimetype": "text/x-python",
   "name": "python",
   "nbconvert_exporter": "python",
   "pygments_lexer": "ipython3",
   "version": "3.9.0"
  }
 },
 "nbformat": 4,
 "nbformat_minor": 5
}
